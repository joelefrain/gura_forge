{
 "cells": [
  {
   "cell_type": "code",
   "execution_count": 1,
   "metadata": {},
   "outputs": [],
   "source": [
    "from lib.tools.metadata import get_info, valid_attr\n",
    "from lib.tools.utils import is_dir, crop_image\n",
    "from config.config import SEP_SYMBOL_COLM, SEP_SYMBOL_NAME, N_PERIOD_RETURN\n",
    "from config.charts import PlotConfig"
   ]
  },
  {
   "cell_type": "markdown",
   "metadata": {},
   "source": [
    "# 0. Vista general del proyecto\n"
   ]
  },
  {
   "cell_type": "code",
   "execution_count": 2,
   "metadata": {},
   "outputs": [
    {
     "data": {
      "text/plain": [
       "True"
      ]
     },
     "execution_count": 2,
     "metadata": {},
     "output_type": "execute_result"
    }
   ],
   "source": [
    "# Abreviación del proyecto\n",
    "project_name = \"Tia-Maria\"\n",
    "\n",
    "# Crear ruta de proyecto\n",
    "output_dir = f\"output/{project_name}/\"\n",
    "\n",
    "# Crear ruta de salida\n",
    "is_dir(output_dir)"
   ]
  },
  {
   "cell_type": "code",
   "execution_count": 3,
   "metadata": {},
   "outputs": [],
   "source": [
    "# Configuración de formatos de reportes\n",
    "PlotConfig.setup_matplotlib()"
   ]
  },
  {
   "cell_type": "markdown",
   "metadata": {},
   "source": [
    "# 1. Identificación de fallas\n"
   ]
  },
  {
   "cell_type": "code",
   "execution_count": 4,
   "metadata": {},
   "outputs": [],
   "source": [
    "from lib.faults.faults import FaultIdentifier\n",
    "from lib.plotters.maps import Map\n",
    "from lib.tools.utils import create_circle, calc_extent\n",
    "\n",
    "import geopandas as gpd"
   ]
  },
  {
   "cell_type": "markdown",
   "metadata": {},
   "source": [
    "## 1.1 Datos de entrada\n"
   ]
  },
  {
   "cell_type": "code",
   "execution_count": 5,
   "metadata": {},
   "outputs": [],
   "source": [
    "# Identificar fallas dentro de un radio específico\n",
    "longitude, latitude, radius = -77.411534, -8.060878, 100\n",
    "\n",
    "# Factor de escala de longitud de falla en columna del SHP\n",
    "scale_factor = 100\n",
    "\n",
    "# Modelo de fallas geológicas\n",
    "key_faults = \"INGEMMET (2023)\"\n",
    "\n",
    "# Identificador de fallas del modelo\n",
    "fault_names = \"NOMBRE\""
   ]
  },
  {
   "cell_type": "markdown",
   "metadata": {},
   "source": [
    "## 1.2 Inicialización\n"
   ]
  },
  {
   "cell_type": "code",
   "execution_count": 6,
   "metadata": {},
   "outputs": [],
   "source": [
    "# Crear ruta de salida del módulo\n",
    "output_module = f\"{output_dir}/01_fault_identification/\"\n",
    "is_dir(output_module)\n",
    "\n",
    "# Nombre de archivo de salida\n",
    "disagg_file = f\"{output_module}/01_faults_table\"\n",
    "faults_map = f\"{output_module}/01_faults_map\""
   ]
  },
  {
   "cell_type": "code",
   "execution_count": 7,
   "metadata": {},
   "outputs": [
    {
     "name": "stdout",
     "output_type": "stream",
     "text": [
      "Atributos de metadata válidos:\n",
      "      ['circle_params', 'columns_shp', 'metadata']\n"
     ]
    }
   ],
   "source": [
    "# Inicializar identificador de fallas\n",
    "fault_identifier = FaultIdentifier.known_shp(key=key_faults)\n",
    "\n",
    "print(\n",
    "    f\"\"\"Atributos de metadata válidos:\n",
    "      {valid_attr(fault_identifier)}\"\"\"\n",
    ")\n",
    "\n",
    "\n",
    "faults_in = fault_identifier.within(longitude, latitude, radius)"
   ]
  },
  {
   "cell_type": "code",
   "execution_count": 8,
   "metadata": {},
   "outputs": [],
   "source": [
    "# Verificar atributos del archivo SHP\n",
    "# print(get_info(fault_identifier, 'columns_shp'))"
   ]
  },
  {
   "cell_type": "markdown",
   "metadata": {},
   "source": [
    "## 1.3 Procesamiento\n"
   ]
  },
  {
   "cell_type": "code",
   "execution_count": 9,
   "metadata": {},
   "outputs": [],
   "source": [
    "# Si se encontraron geometrías, analizarlas con agregaciones personalizadas\n",
    "if not faults_in.empty:\n",
    "    # Diccionario de columnas y funciones de agregación\n",
    "    agg_dict = {\n",
    "        \"OBJECTID\": \"first\",\n",
    "        \"CINEMATICA\": \"first\",\n",
    "        \"BUZAMIENTO\": \"first\",\n",
    "        \"DIR_BUZ\": \"first\",\n",
    "        \"TASA_MOV\": \"first\",\n",
    "        \"COD_GEOCAT\": \"first\",\n",
    "        \"EDAD_ULT_M\": \"first\",\n",
    "        \"SHAPE_LEN\": lambda x: x.sum() * scale_factor,\n",
    "    }\n",
    "\n",
    "    faults_df = fault_identifier.get_faults(faults_in, fault_names, agg_dict)\n",
    "else:\n",
    "    print(\"No se encontraron fallas en el área especificada.\")"
   ]
  },
  {
   "cell_type": "markdown",
   "metadata": {},
   "source": [
    "## 1.4 Creación de mapa\n"
   ]
  },
  {
   "cell_type": "code",
   "execution_count": 10,
   "metadata": {},
   "outputs": [],
   "source": [
    "# Calcular la extensión del mapa\n",
    "extent = calc_extent(latitude, longitude, side_length=400)\n",
    "\n",
    "# Crear el círculo\n",
    "circle = create_circle((longitude, latitude), radius)\n",
    "\n",
    "# Crear el GeoDataFrame\n",
    "circle_gdf = gpd.GeoDataFrame({\"geometry\": [circle]}, crs=\"EPSG:4326\")\n",
    "circle_gdf[\"name\"] = [\"Radio de análisis\"]"
   ]
  },
  {
   "cell_type": "code",
   "execution_count": 11,
   "metadata": {},
   "outputs": [
    {
     "name": "stderr",
     "output_type": "stream",
     "text": [
      "c:\\Users\\Joel Efraín\\OneDrive - ANDDES ASOCIADOS SAC\\Proyectos en curso\\_temp\\seismic_hazard\\.venv\\lib\\site-packages\\cartopy\\mpl\\feature_artist.py:144: UserWarning: facecolor will have no effect as it has been defined as \"never\".\n",
      "  warnings.warn('facecolor will have no effect as it has been '\n"
     ]
    }
   ],
   "source": [
    "base_map = Map(figsize=(10, 10), extent=extent)\n",
    "base_map.add_features(linestyle=\"-\", linewidth=0.5, color=\"gray\")\n",
    "base_map.add_sat_img(zoom=10, alpha=1, attribution_size=5)\n",
    "\n",
    "# Añadir datos del gdf a la instancia de Map\n",
    "base_map.add_gdf(faults_in, column=fault_names, linewidth=3, alpha=1)\n",
    "\n",
    "# Añadir gdf del radio de análisis\n",
    "base_map.add_gdf(circle_gdf, column=\"name\", color_map=\"Greys\")\n",
    "\n",
    "# Añadir punto de análisis del proyecto\n",
    "base_map.add_scatter(\n",
    "    longitude,\n",
    "    latitude,\n",
    "    facecolor=\"red\",\n",
    "    edgecolor=None,\n",
    "    marker=\"*\",\n",
    "    s=250,\n",
    "    label=\"Punto de análisis\",\n",
    ")\n",
    "\n",
    "# Limpiar la leyenda actual y volver a crearla con entradas únicas\n",
    "base_map.add_legend(framealpha=1)\n",
    "\n",
    "# Añadir detalles\n",
    "base_map.add_gridlines()\n",
    "base_map.tight_layout()"
   ]
  },
  {
   "cell_type": "markdown",
   "metadata": {},
   "source": [
    "## 1.5 Datos de salida\n"
   ]
  },
  {
   "cell_type": "code",
   "execution_count": 12,
   "metadata": {},
   "outputs": [],
   "source": [
    "# Guardar el mapa de fallas\n",
    "base_map.save_svg(f\"{faults_map}.svg\")\n",
    "base_map.save_png(f\"{faults_map}.png\")\n",
    "crop_image(f\"{faults_map}.png\")\n",
    "\n",
    "# Guardar tabla de fallas\n",
    "faults_df.to_csv(f\"{disagg_file}.csv\", sep=SEP_SYMBOL_COLM, mode=\"w\", index=False)"
   ]
  },
  {
   "cell_type": "markdown",
   "metadata": {},
   "source": [
    "# 5. Desagregación sísmica\n"
   ]
  },
  {
   "cell_type": "code",
   "execution_count": 13,
   "metadata": {},
   "outputs": [],
   "source": [
    "from lib.disaggregation.analyser import DisaggregationAnalyser\n",
    "\n",
    "import pandas as pd"
   ]
  },
  {
   "cell_type": "markdown",
   "metadata": {},
   "source": [
    "## 5.1 Datos de entrada\n"
   ]
  },
  {
   "cell_type": "code",
   "execution_count": 14,
   "metadata": {},
   "outputs": [],
   "source": [
    "# Leer el archivo CSV\n",
    "df = pd.read_csv(\"var/Mag_Dist_Eps-mean-0_111.csv\")"
   ]
  },
  {
   "cell_type": "code",
   "execution_count": 15,
   "metadata": {},
   "outputs": [],
   "source": [
    "# Diccionario con las claves para las columnas X, Y, Z y COLOR\n",
    "key_dict = {\n",
    "    \"x\": \"dist\",\n",
    "    \"y\": \"mag\",\n",
    "    \"z\": \"mean\",\n",
    "    \"color\": \"eps\",\n",
    "}\n",
    "\n",
    "# Color de las barras de desagregación sísmica\n",
    "colormap_name = \"viridis\"\n",
    "\n",
    "# Etiquetas de los ejes\n",
    "labels = {\n",
    "    \"x_label\": \"Distancia (km)\",\n",
    "    \"y_label\": \"Magnitud (Mw)\",\n",
    "    \"z_label\": \"Contribución\",\n",
    "}\n",
    "\n",
    "# Formatos de salida\n",
    "# formats = [\"svg\", \"png\"]\n",
    "formats = [\"svg\"]"
   ]
  },
  {
   "cell_type": "markdown",
   "metadata": {},
   "source": [
    "## 5.2 Inicialización\n"
   ]
  },
  {
   "cell_type": "code",
   "execution_count": 16,
   "metadata": {},
   "outputs": [],
   "source": [
    "# Crear ruta de salida del módulo\n",
    "output_module = f\"{output_dir}/05_seismic_disaggregation/\"\n",
    "is_dir(output_module)\n",
    "\n",
    "# Nombre de archivo de salida\n",
    "disagg_file = f\"{output_module}/05_disagg_table\"\n",
    "disagg_sumz = f\"{output_module}/05_disagg_sumz\""
   ]
  },
  {
   "cell_type": "code",
   "execution_count": 17,
   "metadata": {},
   "outputs": [],
   "source": [
    "# Lista para almacenar todos los valores\n",
    "disagg_values = []"
   ]
  },
  {
   "cell_type": "markdown",
   "metadata": {},
   "source": [
    "## 5.3 Procesamiento\n"
   ]
  },
  {
   "cell_type": "code",
   "execution_count": 18,
   "metadata": {},
   "outputs": [],
   "source": [
    "for (imt, poe), group in df.groupby([\"imt\", \"poe\"]):\n",
    "\n",
    "    disagg_analyser = DisaggregationAnalyser(\n",
    "        key_dict=key_dict,\n",
    "        colormap_name=colormap_name,\n",
    "        formats=formats,\n",
    "        labels=labels,\n",
    "        n_period_return=N_PERIOD_RETURN,\n",
    "        poe=poe,\n",
    "        spc_acc=imt,\n",
    "        df=group,  # Usar el DataFrame del grupo actual\n",
    "    )\n",
    "    disagg_analyser.process_data()\n",
    "    values = disagg_analyser.values\n",
    "\n",
    "    # Agregar los valores al acumulador\n",
    "    disagg_values.append(values)\n",
    "\n",
    "    # Crear nombre de archivos\n",
    "    name = f\"{output_module}/{values['spc_acc']}{SEP_SYMBOL_NAME}{values['tr']}\"\n",
    "    description = disagg_analyser.create_description(**values)\n",
    "\n",
    "    # Crear gráfico de barras 3D\n",
    "    disagg_analyser.generate_3d_chart(name, description)"
   ]
  },
  {
   "cell_type": "markdown",
   "metadata": {},
   "source": [
    "## 5.4 Datos de salida\n"
   ]
  },
  {
   "cell_type": "code",
   "execution_count": 19,
   "metadata": {},
   "outputs": [],
   "source": [
    "# Convertir la lista de diccionarios en un DataFrame\n",
    "disagg_values = pd.DataFrame(disagg_values)\n",
    "\n",
    "# Guardar el DataFrame en un archivo CSV para referencia futura\n",
    "disagg_values.to_csv(f\"{disagg_file}.csv\", sep=SEP_SYMBOL_COLM, mode=\"w\", index=False)"
   ]
  }
 ],
 "metadata": {
  "kernelspec": {
   "display_name": ".venv",
   "language": "python",
   "name": "python3"
  },
  "language_info": {
   "codemirror_mode": {
    "name": "ipython",
    "version": 3
   },
   "file_extension": ".py",
   "mimetype": "text/x-python",
   "name": "python",
   "nbconvert_exporter": "python",
   "pygments_lexer": "ipython3",
   "version": "3.10.11"
  }
 },
 "nbformat": 4,
 "nbformat_minor": 2
}
